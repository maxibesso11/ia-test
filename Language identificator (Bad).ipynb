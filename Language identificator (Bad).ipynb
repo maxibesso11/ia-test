{
  "nbformat": 4,
  "nbformat_minor": 0,
  "metadata": {
    "colab": {
      "name": "Untitled7.ipynb",
      "provenance": [],
      "collapsed_sections": [],
      "authorship_tag": "ABX9TyMNPd5VxU41h8L5D4B/Xd+i",
      "include_colab_link": true
    },
    "kernelspec": {
      "name": "python3",
      "display_name": "Python 3"
    }
  },
  "cells": [
    {
      "cell_type": "markdown",
      "metadata": {
        "id": "view-in-github",
        "colab_type": "text"
      },
      "source": [
        "<a href=\"https://colab.research.google.com/github/maxibesso11/ia-test/blob/master/Language%20identificator%20(Bad).ipynb\" target=\"_parent\"><img src=\"https://colab.research.google.com/assets/colab-badge.svg\" alt=\"Open In Colab\"/></a>"
      ]
    },
    {
      "cell_type": "code",
      "metadata": {
        "id": "UKmAXx98Xdkl"
      },
      "source": [
        "#Sort orations"
      ],
      "execution_count": 266,
      "outputs": []
    },
    {
      "cell_type": "code",
      "metadata": {
        "id": "9v5XRJ0nXqXg"
      },
      "source": [
        "from sklearn.feature_extraction.text import CountVectorizer\r\n",
        "from sklearn.model_selection import train_test_split\r\n",
        "from sklearn.linear_model import LogisticRegression\r\n",
        "import pandas as pd\r\n",
        "import numpy as np\r\n",
        "import random\r\n",
        "from keras.models import Sequential\r\n",
        "from keras.layers import Dense,LSTM,Dropout"
      ],
      "execution_count": 267,
      "outputs": []
    },
    {
      "cell_type": "code",
      "metadata": {
        "colab": {
          "base_uri": "https://localhost:8080/"
        },
        "id": "EoWtORpkXsKE",
        "outputId": "bc88b077-b442-4573-d9fe-45b93ed1cf75"
      },
      "source": [
        "dataframe =  pd.read_csv(\"languages.csv\")\r\n",
        "dataframe.columns = [\"data\",\"target\",\"binary_target\"]\r\n",
        "print(dataframe.head())"
      ],
      "execution_count": 268,
      "outputs": [
        {
          "output_type": "stream",
          "text": [
            "                                                data   target  binary_target\n",
            "0   y si aun no lo han reescrito, lo siguen utili...  spanish              2\n",
            "1   after typing or pasting content in the first ...  english              1\n",
            "2   this generator can also work as a random sent...  english              1\n",
            "3   pero un buen dia, una pequena linea de texto ...  spanish              2\n",
            "4   click on the random sentence button to genera...  english              1\n"
          ],
          "name": "stdout"
        }
      ]
    },
    {
      "cell_type": "code",
      "metadata": {
        "id": "QcswI1WQo6hZ"
      },
      "source": [
        "x = dataframe[\"data\"]\r\n",
        "y = dataframe[\"binary_target\"]"
      ],
      "execution_count": 269,
      "outputs": []
    },
    {
      "cell_type": "code",
      "metadata": {
        "id": "DaEAz4mqo_gm"
      },
      "source": [
        "vector = CountVectorizer()\r\n",
        "vector.fit(x)\r\n",
        "_x = vector.transform(np.array(x))"
      ],
      "execution_count": 270,
      "outputs": []
    },
    {
      "cell_type": "code",
      "metadata": {
        "colab": {
          "base_uri": "https://localhost:8080/"
        },
        "id": "9Io1bH6CjG7H",
        "outputId": "655856ac-3430-4a2c-af66-2c7ac211e327"
      },
      "source": [
        "x_train = np.array(_x[:1500].A)\r\n",
        "x_test =  np.array(_x[1500:].A)\r\n",
        "y_train = np.asarray(y[:1500])\r\n",
        "y_test = np.asarray(y[1500:])\r\n",
        "print(type(_x))\r\n",
        "print(x_train.shape,x_test.shape,y_train.shape,y_test.shape)\r\n",
        "x_train.shape = (1500,1,5750)\r\n",
        "x_test.shape = (885,1,5750)"
      ],
      "execution_count": 275,
      "outputs": [
        {
          "output_type": "stream",
          "text": [
            "<class 'scipy.sparse.csr.csr_matrix'>\n",
            "(1500, 5750) (885, 5750) (1500,) (885,)\n"
          ],
          "name": "stdout"
        }
      ]
    },
    {
      "cell_type": "code",
      "metadata": {
        "id": "GQIkseWppS8v"
      },
      "source": [
        "model = Sequential()\r\n",
        "model.add(LSTM(256,input_shape=(1,5750),return_sequences=True))\r\n",
        "model.add(Dropout(0.2))\r\n",
        "model.add(LSTM(256))\r\n",
        "model.add(Dropout(0.2))\r\n",
        "model.add(Dense(128))\r\n",
        "model.compile(loss='mean_squared_error', optimizer='adam')\r\n",
        "hist = model.fit(x_train,y_train,epochs=5,batch_size = 128, verbose=0, validation_data=(x_test, y_test))"
      ],
      "execution_count": 276,
      "outputs": []
    },
    {
      "cell_type": "code",
      "metadata": {
        "id": "adzq0PNXqqRb"
      },
      "source": [
        "scores = model.evaluate(x_test,y_test, verbose=0)\r\n",
        "print(scores) "
      ],
      "execution_count": null,
      "outputs": []
    },
    {
      "cell_type": "code",
      "metadata": {
        "colab": {
          "base_uri": "https://localhost:8080/"
        },
        "id": "zB7JkqeipgFj",
        "outputId": "16d8d859-65f2-44e9-fdbb-0284eed7691e"
      },
      "source": [
        "\"\"\"\r\n",
        "count = 0\r\n",
        "for i in range(1000):\r\n",
        "  new_x = _x[i].A\r\n",
        "  new_x.shape = (1,1,5702)\r\n",
        "  if round(model.predict(new_x)[0][0]) != y[i]:\r\n",
        "    count += 1 \r\n",
        "print(count)\"\"\"\r\n",
        "new_x = vector.transform([\"My name is\"]).A\r\n",
        "new_x.shape = (1,1,5750)\r\n",
        "( round((model.predict(new_x)[0][0])) if round((model.predict(new_x)[0][0])) != 0 else \"Not detected\" )"
      ],
      "execution_count": 290,
      "outputs": [
        {
          "output_type": "execute_result",
          "data": {
            "text/plain": [
              "1"
            ]
          },
          "metadata": {
            "tags": []
          },
          "execution_count": 290
        }
      ]
    },
    {
      "cell_type": "code",
      "metadata": {
        "id": "yruD87Gjv2ni"
      },
      "source": [
        ""
      ],
      "execution_count": null,
      "outputs": []
    }
  ]
}