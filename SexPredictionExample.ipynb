{
  "nbformat": 4,
  "nbformat_minor": 0,
  "metadata": {
    "colab": {
      "name": "Untitled6.ipynb",
      "provenance": [],
      "authorship_tag": "ABX9TyPWBXOlFJ5RTnMfcBP8i2x5",
      "include_colab_link": true
    },
    "kernelspec": {
      "name": "python3",
      "display_name": "Python 3"
    }
  },
  "cells": [
    {
      "cell_type": "markdown",
      "metadata": {
        "id": "view-in-github",
        "colab_type": "text"
      },
      "source": [
        "<a href=\"https://colab.research.google.com/github/maxibesso11/ia-test/blob/master/SexPredictionExample.ipynb\" target=\"_parent\"><img src=\"https://colab.research.google.com/assets/colab-badge.svg\" alt=\"Open In Colab\"/></a>"
      ]
    },
    {
      "cell_type": "code",
      "metadata": {
        "id": "mmQ2k1gdLqcF"
      },
      "source": [
        "#Predict sex of pearson "
      ],
      "execution_count": 5,
      "outputs": []
    },
    {
      "cell_type": "code",
      "metadata": {
        "id": "6Y1qjxzpLvks"
      },
      "source": [
        "from sklearn.feature_extraction.text import CountVectorizer\r\n",
        "from sklearn.model_selection import train_test_split\r\n",
        "from sklearn.linear_model import LogisticRegression\r\n",
        "import pandas as pd\r\n",
        "import numpy as np\r\n",
        "import random"
      ],
      "execution_count": 6,
      "outputs": []
    },
    {
      "cell_type": "code",
      "metadata": {
        "id": "bdIhWXLvLu4D"
      },
      "source": [
        "def get_dataset():\r\n",
        "  x = []\r\n",
        "  y = []\r\n",
        "  options = [[\"She is a \",0],[\"He is a \",1]]\r\n",
        "  for i in range(1000):\r\n",
        "    selected = random.choice(options)\r\n",
        "    x.append(selected[0])\r\n",
        "    y.append(selected[1])\r\n",
        "  return x,y\r\n",
        "\r\n",
        "\r\n",
        "x,y = get_dataset()"
      ],
      "execution_count": 10,
      "outputs": []
    },
    {
      "cell_type": "code",
      "metadata": {
        "colab": {
          "base_uri": "https://localhost:8080/"
        },
        "id": "jGyffZhFMzDE",
        "outputId": "6df32fa4-0354-41ee-edbb-f8d7f49786f2"
      },
      "source": [
        "dataframe = pd.DataFrame({\"text\":x,\"sex\":[ (\"Men\" if i == 1 else \"Woman\" ) for i in y]})\r\n",
        "print(dataframe)"
      ],
      "execution_count": 14,
      "outputs": [
        {
          "output_type": "stream",
          "text": [
            "          text    sex\n",
            "0    She is a   Woman\n",
            "1     He is a     Men\n",
            "2     He is a     Men\n",
            "3     He is a     Men\n",
            "4    She is a   Woman\n",
            "..         ...    ...\n",
            "995   He is a     Men\n",
            "996   He is a     Men\n",
            "997   He is a     Men\n",
            "998   He is a     Men\n",
            "999   He is a     Men\n",
            "\n",
            "[1000 rows x 2 columns]\n"
          ],
          "name": "stdout"
        }
      ]
    },
    {
      "cell_type": "code",
      "metadata": {
        "id": "6zeCrtxcNo_L"
      },
      "source": [
        "vector = CountVectorizer()\r\n",
        "vector.fit(x)\r\n",
        "_x = vector.transform(x)"
      ],
      "execution_count": 21,
      "outputs": []
    },
    {
      "cell_type": "code",
      "metadata": {
        "colab": {
          "base_uri": "https://localhost:8080/"
        },
        "id": "_XAFGNRdO_8n",
        "outputId": "800b2977-8633-4212-8632-daab56e6dcbe"
      },
      "source": [
        "x_train,x_test,y_train,y_test = train_test_split(_x,y)\r\n",
        "lr = LogisticRegression()\r\n",
        "lr.fit(x_train,y_train)"
      ],
      "execution_count": 24,
      "outputs": [
        {
          "output_type": "execute_result",
          "data": {
            "text/plain": [
              "LogisticRegression(C=1.0, class_weight=None, dual=False, fit_intercept=True,\n",
              "                   intercept_scaling=1, l1_ratio=None, max_iter=100,\n",
              "                   multi_class='auto', n_jobs=None, penalty='l2',\n",
              "                   random_state=None, solver='lbfgs', tol=0.0001, verbose=0,\n",
              "                   warm_start=False)"
            ]
          },
          "metadata": {
            "tags": []
          },
          "execution_count": 24
        }
      ]
    },
    {
      "cell_type": "code",
      "metadata": {
        "colab": {
          "base_uri": "https://localhost:8080/"
        },
        "id": "7DjOc1DqPd9H",
        "outputId": "da6a7362-1f50-47e8-9587-9eac6e3ec490"
      },
      "source": [
        "lr.score(x_test,y_test)\r\n",
        "print((\"Women\" if lr.predict(vector.transform([\"She is a\"]))[0] == 0 else \"Men\"  ))"
      ],
      "execution_count": 28,
      "outputs": [
        {
          "output_type": "stream",
          "text": [
            "Women\n"
          ],
          "name": "stdout"
        }
      ]
    }
  ]
}