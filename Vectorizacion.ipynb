{
  "nbformat": 4,
  "nbformat_minor": 0,
  "metadata": {
    "colab": {
      "name": "Untitled5.ipynb",
      "provenance": [],
      "collapsed_sections": [],
      "authorship_tag": "ABX9TyO1ort6bk9TBrgRk0uY1pvD",
      "include_colab_link": true
    },
    "kernelspec": {
      "name": "python3",
      "display_name": "Python 3"
    }
  },
  "cells": [
    {
      "cell_type": "markdown",
      "metadata": {
        "id": "view-in-github",
        "colab_type": "text"
      },
      "source": [
        "<a href=\"https://colab.research.google.com/github/maxibesso11/ia-test/blob/master/Vectorizacion.ipynb\" target=\"_parent\"><img src=\"https://colab.research.google.com/assets/colab-badge.svg\" alt=\"Open In Colab\"/></a>"
      ]
    },
    {
      "cell_type": "code",
      "metadata": {
        "id": "dmAN36_bc8dT"
      },
      "source": [
        "#Vectorizacion "
      ],
      "execution_count": null,
      "outputs": []
    },
    {
      "cell_type": "code",
      "metadata": {
        "id": "_yFixp4pdJpf"
      },
      "source": [
        "from sklearn.feature_extraction.text import CountVectorizer\r\n",
        "from sklearn.datasets import fetch_20newsgroups\r\n",
        "from sklearn.model_selection import train_test_split\r\n",
        "from sklearn.linear_model import LogisticRegression\r\n",
        "import pandas as pd\r\n",
        "import numpy as np"
      ],
      "execution_count": 47,
      "outputs": []
    },
    {
      "cell_type": "code",
      "metadata": {
        "id": "v9MyirB_da4z"
      },
      "source": [
        "news_dataset = fetch_20newsgroups()\r\n",
        "dataset = pd.read_csv(\"sample_data/Dataset.csv\")\r\n",
        "x = np.array(dataset[\"Message\"])\r\n",
        "y = np.array(dataset[\"Category\"])"
      ],
      "execution_count": 49,
      "outputs": []
    },
    {
      "cell_type": "code",
      "metadata": {
        "colab": {
          "base_uri": "https://localhost:8080/"
        },
        "id": "mEEXEA6GeNBe",
        "outputId": "a037543f-f57d-4fe5-fe57-485a5ea55a00"
      },
      "source": [
        "vector = CountVectorizer()\r\n",
        "vector.fit(x)\r\n",
        "print(len(vector.vocabulary_))"
      ],
      "execution_count": 26,
      "outputs": [
        {
          "output_type": "stream",
          "text": [
            "8709\n"
          ],
          "name": "stdout"
        }
      ]
    },
    {
      "cell_type": "code",
      "metadata": {
        "id": "SKj_rPOXfwQ7"
      },
      "source": [
        "\r\n",
        "def prepare_data():\r\n",
        "  _x = vector.transform(x)\r\n",
        "  _y = []\r\n",
        "  for i,ix in enumerate(y):\r\n",
        "    my_dict = {\"ham\":0,\"spam\":1}\r\n",
        "    _y.append(my_dict[ix])\r\n",
        "  return _x,_y\r\n",
        "\r\n",
        "_x,_y = prepare_data()"
      ],
      "execution_count": 64,
      "outputs": []
    },
    {
      "cell_type": "code",
      "metadata": {
        "colab": {
          "base_uri": "https://localhost:8080/"
        },
        "id": "8kwipBV3hV-k",
        "outputId": "b68e89f3-ce3c-4668-b0ee-c5cba4807d26"
      },
      "source": [
        "xe,xt,ye,yt = train_test_split(_x,_y)\r\n",
        "lr = LogisticRegression()\r\n",
        "lr.fit(xe,ye)"
      ],
      "execution_count": 65,
      "outputs": [
        {
          "output_type": "execute_result",
          "data": {
            "text/plain": [
              "LogisticRegression(C=1.0, class_weight=None, dual=False, fit_intercept=True,\n",
              "                   intercept_scaling=1, l1_ratio=None, max_iter=100,\n",
              "                   multi_class='auto', n_jobs=None, penalty='l2',\n",
              "                   random_state=None, solver='lbfgs', tol=0.0001, verbose=0,\n",
              "                   warm_start=False)"
            ]
          },
          "metadata": {
            "tags": []
          },
          "execution_count": 65
        }
      ]
    },
    {
      "cell_type": "code",
      "metadata": {
        "colab": {
          "base_uri": "https://localhost:8080/"
        },
        "id": "4HlxBjcflYNs",
        "outputId": "ee333c59-085a-4c90-bd79-4364c950401b"
      },
      "source": [
        "lr.score(xt,yt)"
      ],
      "execution_count": 75,
      "outputs": [
        {
          "output_type": "stream",
          "text": [
            "Free entry in 2 a wkly comp to win FA Cup final tkts 21st May 2005. Text FA to 87121 to receive entry question(std txt rate)T&C's apply 08452810075over18's spam\n"
          ],
          "name": "stdout"
        },
        {
          "output_type": "execute_result",
          "data": {
            "text/plain": [
              "array([1])"
            ]
          },
          "metadata": {
            "tags": []
          },
          "execution_count": 75
        }
      ]
    },
    {
      "cell_type": "code",
      "metadata": {
        "colab": {
          "base_uri": "https://localhost:8080/"
        },
        "id": "RKy0MOM1nWF8",
        "outputId": "3ea81fc6-e98d-4a80-8038-4c7511fef008"
      },
      "source": [
        "def get_prediction(value):\r\n",
        "  prediction = lr.predict(vector.transform([value]))\r\n",
        "  my_dict = {0:\"ham\",1:\"spam\"}\r\n",
        "  return my_dict[prediction[0]]\r\n",
        "\r\n",
        "print(get_prediction(x[5]))"
      ],
      "execution_count": 83,
      "outputs": [
        {
          "output_type": "stream",
          "text": [
            "spam\n"
          ],
          "name": "stdout"
        }
      ]
    }
  ]
}