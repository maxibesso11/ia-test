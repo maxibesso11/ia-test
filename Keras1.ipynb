{
  "nbformat": 4,
  "nbformat_minor": 0,
  "metadata": {
    "colab": {
      "name": "Untitled3.ipynb",
      "provenance": [],
      "collapsed_sections": [],
      "authorship_tag": "ABX9TyPozqv/CUUPOLwmmgdBNDdD",
      "include_colab_link": true
    },
    "kernelspec": {
      "name": "python3",
      "display_name": "Python 3"
    }
  },
  "cells": [
    {
      "cell_type": "markdown",
      "metadata": {
        "id": "view-in-github",
        "colab_type": "text"
      },
      "source": [
        "<a href=\"https://colab.research.google.com/github/maxibesso11/ia-test/blob/master/Keras1.ipynb\" target=\"_parent\"><img src=\"https://colab.research.google.com/assets/colab-badge.svg\" alt=\"Open In Colab\"/></a>"
      ]
    },
    {
      "cell_type": "code",
      "metadata": {
        "id": "ZGQ31ySMtjAp"
      },
      "source": [
        "#Keras Cap 1 - Simple Neuronal Network\r\n",
        "# All images have a numeric target with his class (0,1,2,3,4,5,6,7,8,9), this is the output of the la neuronal network, \r\n",
        "# while that his input is the image (28px x 28px ) in the grey scale"
      ],
      "execution_count": null,
      "outputs": []
    },
    {
      "cell_type": "code",
      "metadata": {
        "id": "K2v73UwGtzuV"
      },
      "source": [
        "from tensorflow.keras import datasets,Sequential\r\n",
        "from tensorflow.keras.layers import Flatten,Dense\r\n",
        "import matplotlib.pyplot as plt\r\n",
        "import numpy as np"
      ],
      "execution_count": null,
      "outputs": []
    },
    {
      "cell_type": "code",
      "metadata": {
        "id": "VQaeEf3CuBea"
      },
      "source": [
        "model = Sequential()\r\n",
        "\r\n",
        "#Input Shape\r\n",
        "model.add(Flatten(input_shape=(28,28)))\r\n",
        "\r\n",
        "#Hidden Shape\r\n",
        "model.add(Dense(128,activation=\"relu\"))\r\n",
        "\r\n",
        "#Output Shape\r\n",
        "model.add(Dense(10,activation=\"softmax\"))\r\n",
        "\r\n",
        "#Definimos el metodo de trabajo del modelo\r\n",
        "model.compile(optimizer='adam',\r\n",
        "              loss='sparse_categorical_crossentropy',\r\n",
        "              metrics=['accuracy'])"
      ],
      "execution_count": null,
      "outputs": []
    },
    {
      "cell_type": "code",
      "metadata": {
        "id": "xET5r1VsvfSb"
      },
      "source": [
        "#Prepare the dataset\r\n",
        "\r\n",
        "(x_train,y_train),(x_test,y_test) = datasets.fashion_mnist.load_data()\r\n",
        "#datasets.mnist.load_data(path=\"mnist.npz\")\r\n",
        "\r\n",
        "#this is when working with images\r\n",
        "x_train = x_train / 255.0\r\n",
        "x_test = x_test / 255.0\r\n"
      ],
      "execution_count": null,
      "outputs": []
    },
    {
      "cell_type": "code",
      "metadata": {
        "colab": {
          "base_uri": "https://localhost:8080/"
        },
        "id": "XHrzbjTl0E4_",
        "outputId": "47256490-9984-4c77-bd67-1ec8e2cce7de"
      },
      "source": [
        "model.fit(x_train,y_train,epochs=10)"
      ],
      "execution_count": null,
      "outputs": [
        {
          "output_type": "stream",
          "text": [
            "Epoch 1/10\n",
            "1875/1875 [==============================] - 4s 2ms/step - loss: 0.6320 - accuracy: 0.7795\n",
            "Epoch 2/10\n",
            "1875/1875 [==============================] - 3s 2ms/step - loss: 0.3901 - accuracy: 0.8597\n",
            "Epoch 3/10\n",
            "1875/1875 [==============================] - 3s 2ms/step - loss: 0.3396 - accuracy: 0.8773\n",
            "Epoch 4/10\n",
            "1875/1875 [==============================] - 3s 2ms/step - loss: 0.3202 - accuracy: 0.8828\n",
            "Epoch 5/10\n",
            "1875/1875 [==============================] - 3s 2ms/step - loss: 0.3013 - accuracy: 0.8899\n",
            "Epoch 6/10\n",
            "1875/1875 [==============================] - 3s 2ms/step - loss: 0.2819 - accuracy: 0.8967\n",
            "Epoch 7/10\n",
            "1875/1875 [==============================] - 3s 2ms/step - loss: 0.2711 - accuracy: 0.8994\n",
            "Epoch 8/10\n",
            "1875/1875 [==============================] - 3s 2ms/step - loss: 0.2553 - accuracy: 0.9053\n",
            "Epoch 9/10\n",
            "1875/1875 [==============================] - 3s 2ms/step - loss: 0.2471 - accuracy: 0.9073\n",
            "Epoch 10/10\n",
            "1875/1875 [==============================] - 3s 2ms/step - loss: 0.2402 - accuracy: 0.9088\n"
          ],
          "name": "stdout"
        },
        {
          "output_type": "execute_result",
          "data": {
            "text/plain": [
              "<tensorflow.python.keras.callbacks.History at 0x7fb8f28020b8>"
            ]
          },
          "metadata": {
            "tags": []
          },
          "execution_count": 47
        }
      ]
    },
    {
      "cell_type": "code",
      "metadata": {
        "colab": {
          "base_uri": "https://localhost:8080/"
        },
        "id": "zAgHa34Dwg_l",
        "outputId": "2569a076-43d0-45e8-82ed-5bd01f8997ae"
      },
      "source": [
        "#Test\r\n",
        "test_loss, test_acc = model.evaluate(x_test,  y_test, verbose=2)\r\n",
        "\r\n",
        "print('\\nTest accuracy:', test_acc)"
      ],
      "execution_count": null,
      "outputs": [
        {
          "output_type": "stream",
          "text": [
            "313/313 - 0s - loss: 0.3455 - accuracy: 0.8828\n",
            "\n",
            "Test accuracy: 0.8827999830245972\n"
          ],
          "name": "stdout"
        }
      ]
    },
    {
      "cell_type": "code",
      "metadata": {
        "colab": {
          "base_uri": "https://localhost:8080/",
          "height": 299
        },
        "id": "dri8Lyjm2QkH",
        "outputId": "d6eeb6da-bb9e-4ca6-d7d4-9dc8269e6c4b"
      },
      "source": [
        "#Predictions of the model about the test image 0 \r\n",
        "predictions = model.predict(x_test)\r\n",
        "\r\n",
        "\r\n",
        "\r\n",
        "class_names = ['T-shirt/top', 'Trouser', 'Pullover', 'Dress', 'Coat',\r\n",
        "               'Sandal', 'Shirt', 'Sneaker', 'Bag', 'Ankle boot']\r\n",
        "n = 10\r\n",
        "s\r\n",
        "print(\"The image %s is a %s\" %(n,class_names[np.argmax(predictions[n])]))\r\n",
        "\r\n",
        "plt.imshow(x_test[n], cmap=plt.cm.binary)"
      ],
      "execution_count": null,
      "outputs": [
        {
          "output_type": "stream",
          "text": [
            "The image 10 is a Coat\n"
          ],
          "name": "stdout"
        },
        {
          "output_type": "execute_result",
          "data": {
            "text/plain": [
              "<matplotlib.image.AxesImage at 0x7fb8f2c179b0>"
            ]
          },
          "metadata": {
            "tags": []
          },
          "execution_count": 59
        },
        {
          "output_type": "display_data",
          "data": {
            "image/png": "[encoded data removed]",
            "text/plain": [
              "<Figure size 432x288 with 1 Axes>"
            ]
          },
          "metadata": {
            "tags": [],
            "needs_background": "light"
          }
        }
      ]
    }
  ]
}